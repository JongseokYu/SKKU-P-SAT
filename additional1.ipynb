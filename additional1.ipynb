{
 "cells": [
  {
   "cell_type": "markdown",
   "id": "35cb8787",
   "metadata": {},
   "source": [
    "# 2주차 주제분석 패키지 (Catboost, Ridge Regression, Light GBM)"
   ]
  },
  {
   "cell_type": "code",
   "execution_count": 1,
   "id": "e63b25e7",
   "metadata": {
    "ExecuteTime": {
     "end_time": "2023-01-08T15:06:26.861482Z",
     "start_time": "2023-01-08T15:06:25.493178Z"
    }
   },
   "outputs": [],
   "source": [
    "# 라이브러리 호출\n",
    "import pandas as pd\n",
    "import numpy as np"
   ]
  },
  {
   "cell_type": "markdown",
   "id": "deabc994",
   "metadata": {},
   "source": [
    "### 데이터 분할"
   ]
  },
  {
   "cell_type": "markdown",
   "id": "8052cf47",
   "metadata": {},
   "source": [
    "#### 데이터 불러오기"
   ]
  },
  {
   "cell_type": "code",
   "execution_count": 2,
   "id": "bedb93ea",
   "metadata": {
    "ExecuteTime": {
     "end_time": "2023-01-08T15:06:27.580851Z",
     "start_time": "2023-01-08T15:06:26.863391Z"
    }
   },
   "outputs": [],
   "source": [
    "train = pd.read_csv(\"C://Users//yjs49//Desktop//lgbm//train.csv\")\n",
    "test = pd.read_csv(\"C://Users//yjs49//Desktop//lgbm//test.csv\")"
   ]
  },
  {
   "cell_type": "markdown",
   "id": "1ccbcdd1",
   "metadata": {
    "ExecuteTime": {
     "end_time": "2023-01-05T08:15:32.811800Z",
     "start_time": "2023-01-05T08:15:32.787007Z"
    }
   },
   "source": [
    "#### 단위 수정"
   ]
  },
  {
   "cell_type": "code",
   "execution_count": 3,
   "id": "22e48fce",
   "metadata": {
    "ExecuteTime": {
     "end_time": "2023-01-08T15:06:27.611991Z",
     "start_time": "2023-01-08T15:06:27.582855Z"
    }
   },
   "outputs": [],
   "source": [
    "### 결국 price를 예측하는 것!\n",
    "train_x = train.drop(['price'], axis=1)\n",
    "train_y = train['price']"
   ]
  },
  {
   "cell_type": "markdown",
   "id": "8d894825",
   "metadata": {
    "ExecuteTime": {
     "end_time": "2023-01-07T05:58:15.232475Z",
     "start_time": "2023-01-07T05:58:15.217484Z"
    }
   },
   "source": [
    "#### validation set 분할"
   ]
  },
  {
   "cell_type": "code",
   "execution_count": 4,
   "id": "2e834606",
   "metadata": {
    "ExecuteTime": {
     "end_time": "2023-01-08T15:06:29.060989Z",
     "start_time": "2023-01-08T15:06:27.613921Z"
    }
   },
   "outputs": [],
   "source": [
    "from sklearn.model_selection import train_test_split\n",
    "\n",
    "x_train, x_valid, y_train, y_valid = train_test_split(train_x, train_y, test_size=0.2, random_state=42)"
   ]
  },
  {
   "cell_type": "markdown",
   "id": "40a69a18",
   "metadata": {
    "ExecuteTime": {
     "end_time": "2023-01-07T06:51:38.506574Z",
     "start_time": "2023-01-07T06:51:38.483655Z"
    }
   },
   "source": [
    "#### 이렇게 split할 경우 발생할 수 있는 문제점\n",
    ": 우리는 최종적으로 아파트 실거래가격(price)을 예측하려고 함. 즉, 과거의 정보를 활용하여 미래의 정보를 얻어내야 한다.\n",
    "validation set을 만드는 목적은 bias가 작은 모델을 만들기 위해 train set을 이용하여 만든 모델을 평가, 즉 test error를 추정하기 위한 것.\n",
    "그러나 위의 방식으로 train과 valid set을 나누면, train set에 과거 뿐만 아니라 예측하려는 시점의 정보도 포함되어 있는 것과 같아 test error rate를 올바르게 추정할 수 없음!\n",
    "(시계열데이터이기 때문임!!!)"
   ]
  },
  {
   "cell_type": "markdown",
   "id": "78851ec4",
   "metadata": {},
   "source": [
    "#### validation set 분할 두번쨰!"
   ]
  },
  {
   "cell_type": "code",
   "execution_count": 5,
   "id": "237da592",
   "metadata": {
    "ExecuteTime": {
     "end_time": "2023-01-08T15:06:29.107907Z",
     "start_time": "2023-01-08T15:06:29.062988Z"
    }
   },
   "outputs": [],
   "source": [
    "### transaction_year == 4인 행을 validation set으로 지정!\n",
    "\n",
    "train2 = train[train['transaction_year'] <4]\n",
    "val2 = train[train['transaction_year'] == 4]\n",
    "\n",
    "x_train = train2.drop(['price'], axis = 1)\n",
    "y_train = train2['price']\n",
    "\n",
    "x_val = val2.drop(['price'], axis = 1)\n",
    "y_val = val2['price']"
   ]
  },
  {
   "cell_type": "markdown",
   "id": "bbdb5e8f",
   "metadata": {
    "ExecuteTime": {
     "end_time": "2023-01-07T07:46:51.611991Z",
     "start_time": "2023-01-07T07:46:51.595021Z"
    }
   },
   "source": [
    "#### Catboost encoding 전! "
   ]
  },
  {
   "cell_type": "code",
   "execution_count": 6,
   "id": "7497cab9",
   "metadata": {
    "ExecuteTime": {
     "end_time": "2023-01-08T15:06:32.300224Z",
     "start_time": "2023-01-08T15:06:29.108904Z"
    },
    "scrolled": true
   },
   "outputs": [
    {
     "name": "stdout",
     "output_type": "stream",
     "text": [
      "Requirement already satisfied: category_encoders in c:\\users\\yjs49\\anaconda3\\lib\\site-packages (2.5.1.post0)\n",
      "Requirement already satisfied: scipy>=1.0.0 in c:\\users\\yjs49\\anaconda3\\lib\\site-packages (from category_encoders) (1.7.1)\n",
      "Requirement already satisfied: patsy>=0.5.1 in c:\\users\\yjs49\\anaconda3\\lib\\site-packages (from category_encoders) (0.5.2)\n",
      "Requirement already satisfied: numpy>=1.14.0 in c:\\users\\yjs49\\anaconda3\\lib\\site-packages (from category_encoders) (1.20.3)\n",
      "Requirement already satisfied: pandas>=1.0.5 in c:\\users\\yjs49\\anaconda3\\lib\\site-packages (from category_encoders) (1.3.4)\n",
      "Requirement already satisfied: scikit-learn>=0.20.0 in c:\\users\\yjs49\\anaconda3\\lib\\site-packages (from category_encoders) (1.1.1)\n",
      "Requirement already satisfied: statsmodels>=0.9.0 in c:\\users\\yjs49\\anaconda3\\lib\\site-packages (from category_encoders) (0.12.2)\n",
      "Requirement already satisfied: pytz>=2017.3 in c:\\users\\yjs49\\anaconda3\\lib\\site-packages (from pandas>=1.0.5->category_encoders) (2021.3)\n",
      "Requirement already satisfied: python-dateutil>=2.7.3 in c:\\users\\yjs49\\anaconda3\\lib\\site-packages (from pandas>=1.0.5->category_encoders) (2.8.2)\n",
      "Requirement already satisfied: six in c:\\users\\yjs49\\anaconda3\\lib\\site-packages (from patsy>=0.5.1->category_encoders) (1.16.0)\n",
      "Requirement already satisfied: threadpoolctl>=2.0.0 in c:\\users\\yjs49\\anaconda3\\lib\\site-packages (from scikit-learn>=0.20.0->category_encoders) (2.2.0)\n",
      "Requirement already satisfied: joblib>=1.0.0 in c:\\users\\yjs49\\anaconda3\\lib\\site-packages (from scikit-learn>=0.20.0->category_encoders) (1.1.0)\n"
     ]
    }
   ],
   "source": [
    "!pip install category_encoders"
   ]
  },
  {
   "cell_type": "markdown",
   "id": "f13d46f1",
   "metadata": {},
   "source": [
    "CatBoostEncoder 설명\n",
    ": Encoding은 범주형 변수를 수치형 변수로 바꾸어주면서 ML을 할 수 있도록 하는 것!\n",
    "-> CatBoost는 target based 범주형 인코더, supervised encoder\n",
    ": 모든 훈련 데이터를 대상으로 잔차계산을 하는 기존의 부스팅 모델과 달리, Catboost는 일부만 가지고 잔차계산을 한 뒤, 이걸로 모델을 만들고 데이터의 잔차는 이 모델로 예측한 값을 사용한다. (점차적으로 순서에 따라 모델을 만들고 예측을 한다!, random permutation을 통해 트리를 다각적으로 생성한다.)\n",
    ": 현재 타켓 값을 사용하지 않고, 이전 데이터들의 타켓 값만을 사용해서 data leakage를 방지한다. 그래서 범주형 변수를 수로 인코딩할 때 오버피팅도 방지하고, 수치값의 다양성도 만들어줄 수 있다!\n",
    ": 변수가 범주형 변수일 떄 효과적인 학습 속도도 보인다. (파라미터 튜닝은 그렇게 중요하진 않음)\n",
    "\n",
    "애초에 boosting 모델은 잔차를 줄여나가는데에 그 목표가 있기 떄문에 high variance한 모델이다(오버피팅도 많이 발생한다.)\n",
    "xgboost, catboost(level-wise : BFS의 형태) / lgbm(leaf-wise : DFS의 형태)"
   ]
  },
  {
   "cell_type": "code",
   "execution_count": 7,
   "id": "fc3f3d7f",
   "metadata": {
    "ExecuteTime": {
     "end_time": "2023-01-08T15:06:33.263910Z",
     "start_time": "2023-01-08T15:06:32.302214Z"
    }
   },
   "outputs": [
    {
     "data": {
      "text/html": [
       "<div>\n",
       "<style scoped>\n",
       "    .dataframe tbody tr th:only-of-type {\n",
       "        vertical-align: middle;\n",
       "    }\n",
       "\n",
       "    .dataframe tbody tr th {\n",
       "        vertical-align: top;\n",
       "    }\n",
       "\n",
       "    .dataframe thead th {\n",
       "        text-align: right;\n",
       "    }\n",
       "</style>\n",
       "<table border=\"1\" class=\"dataframe\">\n",
       "  <thead>\n",
       "    <tr style=\"text-align: right;\">\n",
       "      <th></th>\n",
       "      <th>dong</th>\n",
       "      <th>apt</th>\n",
       "      <th>exclusive_use_area</th>\n",
       "      <th>floor</th>\n",
       "      <th>transaction_year</th>\n",
       "      <th>until_trans</th>\n",
       "      <th>sin_date</th>\n",
       "      <th>cos_date</th>\n",
       "    </tr>\n",
       "  </thead>\n",
       "  <tbody>\n",
       "    <tr>\n",
       "      <th>2451</th>\n",
       "      <td>89176.597368</td>\n",
       "      <td>86280.203194</td>\n",
       "      <td>107.91</td>\n",
       "      <td>14</td>\n",
       "      <td>4</td>\n",
       "      <td>9</td>\n",
       "      <td>-1.000000e+00</td>\n",
       "      <td>-1.836970e-16</td>\n",
       "    </tr>\n",
       "    <tr>\n",
       "      <th>2452</th>\n",
       "      <td>89176.597368</td>\n",
       "      <td>86280.203194</td>\n",
       "      <td>151.81</td>\n",
       "      <td>10</td>\n",
       "      <td>4</td>\n",
       "      <td>9</td>\n",
       "      <td>-1.000000e+00</td>\n",
       "      <td>-1.836970e-16</td>\n",
       "    </tr>\n",
       "    <tr>\n",
       "      <th>2453</th>\n",
       "      <td>89176.597368</td>\n",
       "      <td>86280.203194</td>\n",
       "      <td>94.51</td>\n",
       "      <td>2</td>\n",
       "      <td>4</td>\n",
       "      <td>9</td>\n",
       "      <td>-2.449294e-16</td>\n",
       "      <td>1.000000e+00</td>\n",
       "    </tr>\n",
       "    <tr>\n",
       "      <th>2454</th>\n",
       "      <td>89176.597368</td>\n",
       "      <td>86280.203194</td>\n",
       "      <td>94.28</td>\n",
       "      <td>12</td>\n",
       "      <td>4</td>\n",
       "      <td>9</td>\n",
       "      <td>-2.449294e-16</td>\n",
       "      <td>1.000000e+00</td>\n",
       "    </tr>\n",
       "    <tr>\n",
       "      <th>2455</th>\n",
       "      <td>103789.156533</td>\n",
       "      <td>107170.755379</td>\n",
       "      <td>145.96</td>\n",
       "      <td>13</td>\n",
       "      <td>4</td>\n",
       "      <td>13</td>\n",
       "      <td>-1.000000e+00</td>\n",
       "      <td>-1.836970e-16</td>\n",
       "    </tr>\n",
       "  </tbody>\n",
       "</table>\n",
       "</div>"
      ],
      "text/plain": [
       "               dong            apt  exclusive_use_area  floor  \\\n",
       "2451   89176.597368   86280.203194              107.91     14   \n",
       "2452   89176.597368   86280.203194              151.81     10   \n",
       "2453   89176.597368   86280.203194               94.51      2   \n",
       "2454   89176.597368   86280.203194               94.28     12   \n",
       "2455  103789.156533  107170.755379              145.96     13   \n",
       "\n",
       "      transaction_year  until_trans      sin_date      cos_date  \n",
       "2451                 4            9 -1.000000e+00 -1.836970e-16  \n",
       "2452                 4            9 -1.000000e+00 -1.836970e-16  \n",
       "2453                 4            9 -2.449294e-16  1.000000e+00  \n",
       "2454                 4            9 -2.449294e-16  1.000000e+00  \n",
       "2455                 4           13 -1.000000e+00 -1.836970e-16  "
      ]
     },
     "execution_count": 7,
     "metadata": {},
     "output_type": "execute_result"
    }
   ],
   "source": [
    "from category_encoders.cat_boost import CatBoostEncoder\n",
    "\n",
    "cbe_encoder = CatBoostEncoder()\n",
    "cbe_encoder.fit(x_train, y_train)\n",
    "cbe_train = cbe_encoder.fit_transform(x_train, y_train)\n",
    "cbe_val = cbe_encoder.transform(x_val)\n",
    "# train에서 분할된 train을 인코딩을 위한 학습으로 사용해서, 이를 valid에 적용한 것!\n",
    "\n",
    "cbe_val.head()"
   ]
  },
  {
   "cell_type": "code",
   "execution_count": 8,
   "id": "e15ab595",
   "metadata": {
    "ExecuteTime": {
     "end_time": "2023-01-08T15:06:33.295352Z",
     "start_time": "2023-01-08T15:06:33.264907Z"
    }
   },
   "outputs": [
    {
     "data": {
      "text/html": [
       "<div>\n",
       "<style scoped>\n",
       "    .dataframe tbody tr th:only-of-type {\n",
       "        vertical-align: middle;\n",
       "    }\n",
       "\n",
       "    .dataframe tbody tr th {\n",
       "        vertical-align: top;\n",
       "    }\n",
       "\n",
       "    .dataframe thead th {\n",
       "        text-align: right;\n",
       "    }\n",
       "</style>\n",
       "<table border=\"1\" class=\"dataframe\">\n",
       "  <thead>\n",
       "    <tr style=\"text-align: right;\">\n",
       "      <th></th>\n",
       "      <th>dong</th>\n",
       "      <th>apt</th>\n",
       "      <th>exclusive_use_area</th>\n",
       "      <th>floor</th>\n",
       "      <th>transaction_year</th>\n",
       "      <th>until_trans</th>\n",
       "      <th>sin_date</th>\n",
       "      <th>cos_date</th>\n",
       "    </tr>\n",
       "  </thead>\n",
       "  <tbody>\n",
       "    <tr>\n",
       "      <th>0</th>\n",
       "      <td>사직동</td>\n",
       "      <td>광화문풍림스페이스본(9-0)</td>\n",
       "      <td>95.88</td>\n",
       "      <td>6</td>\n",
       "      <td>0</td>\n",
       "      <td>5</td>\n",
       "      <td>-1.000000e+00</td>\n",
       "      <td>-1.836970e-16</td>\n",
       "    </tr>\n",
       "    <tr>\n",
       "      <th>1</th>\n",
       "      <td>사직동</td>\n",
       "      <td>광화문풍림스페이스본(9-0)</td>\n",
       "      <td>108.55</td>\n",
       "      <td>11</td>\n",
       "      <td>0</td>\n",
       "      <td>5</td>\n",
       "      <td>-2.449294e-16</td>\n",
       "      <td>1.000000e+00</td>\n",
       "    </tr>\n",
       "    <tr>\n",
       "      <th>2</th>\n",
       "      <td>사직동</td>\n",
       "      <td>광화문풍림스페이스본(9-0)</td>\n",
       "      <td>94.51</td>\n",
       "      <td>1</td>\n",
       "      <td>0</td>\n",
       "      <td>5</td>\n",
       "      <td>-2.449294e-16</td>\n",
       "      <td>1.000000e+00</td>\n",
       "    </tr>\n",
       "    <tr>\n",
       "      <th>3</th>\n",
       "      <td>수송동</td>\n",
       "      <td>로얄팰리스스위트</td>\n",
       "      <td>42.87</td>\n",
       "      <td>8</td>\n",
       "      <td>0</td>\n",
       "      <td>8</td>\n",
       "      <td>-1.000000e+00</td>\n",
       "      <td>-1.836970e-16</td>\n",
       "    </tr>\n",
       "    <tr>\n",
       "      <th>4</th>\n",
       "      <td>수송동</td>\n",
       "      <td>로얄팰리스스위트</td>\n",
       "      <td>39.67</td>\n",
       "      <td>15</td>\n",
       "      <td>0</td>\n",
       "      <td>8</td>\n",
       "      <td>1.000000e+00</td>\n",
       "      <td>3.061617e-16</td>\n",
       "    </tr>\n",
       "    <tr>\n",
       "      <th>...</th>\n",
       "      <td>...</td>\n",
       "      <td>...</td>\n",
       "      <td>...</td>\n",
       "      <td>...</td>\n",
       "      <td>...</td>\n",
       "      <td>...</td>\n",
       "      <td>...</td>\n",
       "      <td>...</td>\n",
       "    </tr>\n",
       "    <tr>\n",
       "      <th>416312</th>\n",
       "      <td>강일동</td>\n",
       "      <td>강일리버파크4단지</td>\n",
       "      <td>84.74</td>\n",
       "      <td>9</td>\n",
       "      <td>3</td>\n",
       "      <td>7</td>\n",
       "      <td>5.879543e-15</td>\n",
       "      <td>-1.000000e+00</td>\n",
       "    </tr>\n",
       "    <tr>\n",
       "      <th>416313</th>\n",
       "      <td>강일동</td>\n",
       "      <td>강일리버파크2단지</td>\n",
       "      <td>84.53</td>\n",
       "      <td>7</td>\n",
       "      <td>3</td>\n",
       "      <td>7</td>\n",
       "      <td>5.879543e-15</td>\n",
       "      <td>-1.000000e+00</td>\n",
       "    </tr>\n",
       "    <tr>\n",
       "      <th>416314</th>\n",
       "      <td>강일동</td>\n",
       "      <td>강일리버파크5단지</td>\n",
       "      <td>84.83</td>\n",
       "      <td>6</td>\n",
       "      <td>3</td>\n",
       "      <td>7</td>\n",
       "      <td>5.879543e-15</td>\n",
       "      <td>-1.000000e+00</td>\n",
       "    </tr>\n",
       "    <tr>\n",
       "      <th>416315</th>\n",
       "      <td>강일동</td>\n",
       "      <td>강일리버파크4단지</td>\n",
       "      <td>84.53</td>\n",
       "      <td>13</td>\n",
       "      <td>3</td>\n",
       "      <td>7</td>\n",
       "      <td>5.879543e-15</td>\n",
       "      <td>-1.000000e+00</td>\n",
       "    </tr>\n",
       "    <tr>\n",
       "      <th>416316</th>\n",
       "      <td>강일동</td>\n",
       "      <td>강일리버파크7단지</td>\n",
       "      <td>84.53</td>\n",
       "      <td>8</td>\n",
       "      <td>3</td>\n",
       "      <td>7</td>\n",
       "      <td>5.879543e-15</td>\n",
       "      <td>-1.000000e+00</td>\n",
       "    </tr>\n",
       "  </tbody>\n",
       "</table>\n",
       "<p>312466 rows × 8 columns</p>\n",
       "</div>"
      ],
      "text/plain": [
       "       dong              apt  exclusive_use_area  floor  transaction_year  \\\n",
       "0       사직동  광화문풍림스페이스본(9-0)               95.88      6                 0   \n",
       "1       사직동  광화문풍림스페이스본(9-0)              108.55     11                 0   \n",
       "2       사직동  광화문풍림스페이스본(9-0)               94.51      1                 0   \n",
       "3       수송동         로얄팰리스스위트               42.87      8                 0   \n",
       "4       수송동         로얄팰리스스위트               39.67     15                 0   \n",
       "...     ...              ...                 ...    ...               ...   \n",
       "416312  강일동        강일리버파크4단지               84.74      9                 3   \n",
       "416313  강일동        강일리버파크2단지               84.53      7                 3   \n",
       "416314  강일동        강일리버파크5단지               84.83      6                 3   \n",
       "416315  강일동        강일리버파크4단지               84.53     13                 3   \n",
       "416316  강일동        강일리버파크7단지               84.53      8                 3   \n",
       "\n",
       "        until_trans      sin_date      cos_date  \n",
       "0                 5 -1.000000e+00 -1.836970e-16  \n",
       "1                 5 -2.449294e-16  1.000000e+00  \n",
       "2                 5 -2.449294e-16  1.000000e+00  \n",
       "3                 8 -1.000000e+00 -1.836970e-16  \n",
       "4                 8  1.000000e+00  3.061617e-16  \n",
       "...             ...           ...           ...  \n",
       "416312            7  5.879543e-15 -1.000000e+00  \n",
       "416313            7  5.879543e-15 -1.000000e+00  \n",
       "416314            7  5.879543e-15 -1.000000e+00  \n",
       "416315            7  5.879543e-15 -1.000000e+00  \n",
       "416316            7  5.879543e-15 -1.000000e+00  \n",
       "\n",
       "[312466 rows x 8 columns]"
      ]
     },
     "execution_count": 8,
     "metadata": {},
     "output_type": "execute_result"
    }
   ],
   "source": [
    "x_train"
   ]
  },
  {
   "cell_type": "code",
   "execution_count": 9,
   "id": "586ddcef",
   "metadata": {
    "ExecuteTime": {
     "end_time": "2023-01-08T15:06:33.311309Z",
     "start_time": "2023-01-08T15:06:33.296350Z"
    }
   },
   "outputs": [
    {
     "data": {
      "text/html": [
       "<div>\n",
       "<style scoped>\n",
       "    .dataframe tbody tr th:only-of-type {\n",
       "        vertical-align: middle;\n",
       "    }\n",
       "\n",
       "    .dataframe tbody tr th {\n",
       "        vertical-align: top;\n",
       "    }\n",
       "\n",
       "    .dataframe thead th {\n",
       "        text-align: right;\n",
       "    }\n",
       "</style>\n",
       "<table border=\"1\" class=\"dataframe\">\n",
       "  <thead>\n",
       "    <tr style=\"text-align: right;\">\n",
       "      <th></th>\n",
       "      <th>dong</th>\n",
       "      <th>apt</th>\n",
       "      <th>exclusive_use_area</th>\n",
       "      <th>floor</th>\n",
       "      <th>transaction_year</th>\n",
       "      <th>until_trans</th>\n",
       "      <th>sin_date</th>\n",
       "      <th>cos_date</th>\n",
       "    </tr>\n",
       "  </thead>\n",
       "  <tbody>\n",
       "    <tr>\n",
       "      <th>0</th>\n",
       "      <td>46056.618349</td>\n",
       "      <td>46056.618349</td>\n",
       "      <td>95.88</td>\n",
       "      <td>6</td>\n",
       "      <td>0</td>\n",
       "      <td>5</td>\n",
       "      <td>-1.000000e+00</td>\n",
       "      <td>-1.836970e-16</td>\n",
       "    </tr>\n",
       "    <tr>\n",
       "      <th>1</th>\n",
       "      <td>58028.309174</td>\n",
       "      <td>58028.309174</td>\n",
       "      <td>108.55</td>\n",
       "      <td>11</td>\n",
       "      <td>0</td>\n",
       "      <td>5</td>\n",
       "      <td>-2.449294e-16</td>\n",
       "      <td>1.000000e+00</td>\n",
       "    </tr>\n",
       "    <tr>\n",
       "      <th>2</th>\n",
       "      <td>72185.539450</td>\n",
       "      <td>72185.539450</td>\n",
       "      <td>94.51</td>\n",
       "      <td>1</td>\n",
       "      <td>0</td>\n",
       "      <td>5</td>\n",
       "      <td>-2.449294e-16</td>\n",
       "      <td>1.000000e+00</td>\n",
       "    </tr>\n",
       "    <tr>\n",
       "      <th>3</th>\n",
       "      <td>46056.618349</td>\n",
       "      <td>46056.618349</td>\n",
       "      <td>42.87</td>\n",
       "      <td>8</td>\n",
       "      <td>0</td>\n",
       "      <td>8</td>\n",
       "      <td>-1.000000e+00</td>\n",
       "      <td>-1.836970e-16</td>\n",
       "    </tr>\n",
       "    <tr>\n",
       "      <th>4</th>\n",
       "      <td>38278.309174</td>\n",
       "      <td>38278.309174</td>\n",
       "      <td>39.67</td>\n",
       "      <td>15</td>\n",
       "      <td>0</td>\n",
       "      <td>8</td>\n",
       "      <td>1.000000e+00</td>\n",
       "      <td>3.061617e-16</td>\n",
       "    </tr>\n",
       "    <tr>\n",
       "      <th>...</th>\n",
       "      <td>...</td>\n",
       "      <td>...</td>\n",
       "      <td>...</td>\n",
       "      <td>...</td>\n",
       "      <td>...</td>\n",
       "      <td>...</td>\n",
       "      <td>...</td>\n",
       "      <td>...</td>\n",
       "    </tr>\n",
       "    <tr>\n",
       "      <th>416312</th>\n",
       "      <td>41881.068296</td>\n",
       "      <td>42999.460791</td>\n",
       "      <td>84.74</td>\n",
       "      <td>9</td>\n",
       "      <td>3</td>\n",
       "      <td>7</td>\n",
       "      <td>5.879543e-15</td>\n",
       "      <td>-1.000000e+00</td>\n",
       "    </tr>\n",
       "    <tr>\n",
       "      <th>416313</th>\n",
       "      <td>41884.564849</td>\n",
       "      <td>41768.869699</td>\n",
       "      <td>84.53</td>\n",
       "      <td>7</td>\n",
       "      <td>3</td>\n",
       "      <td>7</td>\n",
       "      <td>5.879543e-15</td>\n",
       "      <td>-1.000000e+00</td>\n",
       "    </tr>\n",
       "    <tr>\n",
       "      <th>416314</th>\n",
       "      <td>41886.606774</td>\n",
       "      <td>38481.447103</td>\n",
       "      <td>84.83</td>\n",
       "      <td>6</td>\n",
       "      <td>3</td>\n",
       "      <td>7</td>\n",
       "      <td>5.879543e-15</td>\n",
       "      <td>-1.000000e+00</td>\n",
       "    </tr>\n",
       "    <tr>\n",
       "      <th>416315</th>\n",
       "      <td>41892.019883</td>\n",
       "      <td>43024.466183</td>\n",
       "      <td>84.53</td>\n",
       "      <td>13</td>\n",
       "      <td>3</td>\n",
       "      <td>7</td>\n",
       "      <td>5.879543e-15</td>\n",
       "      <td>-1.000000e+00</td>\n",
       "    </tr>\n",
       "    <tr>\n",
       "      <th>416316</th>\n",
       "      <td>41895.688457</td>\n",
       "      <td>38342.414712</td>\n",
       "      <td>84.53</td>\n",
       "      <td>8</td>\n",
       "      <td>3</td>\n",
       "      <td>7</td>\n",
       "      <td>5.879543e-15</td>\n",
       "      <td>-1.000000e+00</td>\n",
       "    </tr>\n",
       "  </tbody>\n",
       "</table>\n",
       "<p>312466 rows × 8 columns</p>\n",
       "</div>"
      ],
      "text/plain": [
       "                dong           apt  exclusive_use_area  floor  \\\n",
       "0       46056.618349  46056.618349               95.88      6   \n",
       "1       58028.309174  58028.309174              108.55     11   \n",
       "2       72185.539450  72185.539450               94.51      1   \n",
       "3       46056.618349  46056.618349               42.87      8   \n",
       "4       38278.309174  38278.309174               39.67     15   \n",
       "...              ...           ...                 ...    ...   \n",
       "416312  41881.068296  42999.460791               84.74      9   \n",
       "416313  41884.564849  41768.869699               84.53      7   \n",
       "416314  41886.606774  38481.447103               84.83      6   \n",
       "416315  41892.019883  43024.466183               84.53     13   \n",
       "416316  41895.688457  38342.414712               84.53      8   \n",
       "\n",
       "        transaction_year  until_trans      sin_date      cos_date  \n",
       "0                      0            5 -1.000000e+00 -1.836970e-16  \n",
       "1                      0            5 -2.449294e-16  1.000000e+00  \n",
       "2                      0            5 -2.449294e-16  1.000000e+00  \n",
       "3                      0            8 -1.000000e+00 -1.836970e-16  \n",
       "4                      0            8  1.000000e+00  3.061617e-16  \n",
       "...                  ...          ...           ...           ...  \n",
       "416312                 3            7  5.879543e-15 -1.000000e+00  \n",
       "416313                 3            7  5.879543e-15 -1.000000e+00  \n",
       "416314                 3            7  5.879543e-15 -1.000000e+00  \n",
       "416315                 3            7  5.879543e-15 -1.000000e+00  \n",
       "416316                 3            7  5.879543e-15 -1.000000e+00  \n",
       "\n",
       "[312466 rows x 8 columns]"
      ]
     },
     "execution_count": 9,
     "metadata": {},
     "output_type": "execute_result"
    }
   ],
   "source": [
    "cbe_train ###수치형 값들이 범주형으로 변환되었고, 값들이 다 차이가 있다. (dong, apt가 변형됨!)"
   ]
  },
  {
   "cell_type": "markdown",
   "id": "b5966b71",
   "metadata": {},
   "source": [
    "### 릿지 회귀 (Ridge Regression)\n",
    "- 정규화의 개념(Regularization)\n",
    ": 모든 변수로 모델을 적합하되, 회귀 계수가 가질 수 있는 값에 제약조건을 부여함으로써 계수들을 작게 만들거나 0으로 만드는 방법. 다중공선성을 일으키는 문제 중 하나가 OLS 추정량의 분산을 크게 증가시킨다는 것이었는데, 분산이 크게 증가하게 된다면 추정량의 변동폭이 매우 크게되어 예측이 불안정해진다.\n",
    "-> 추정량의 크기를 제한함으로써 변동폭을 줄이고, 이를 통해 분산을 줄인다는 아이디어! (OLS 추정량의 불편성을 포기하고 분산을 줄이는 방법)\n",
    "\n",
    "- 릿지 회귀(Ridge) \n",
    ": 제약조건이 L2norm의 형태(원) -> 변수 선택 불가능, closed form solution을 미분을 통해 구할 수 있음\n",
    ": 상관관계 높은 상황에서 좋은 예측 성능 (상관성이 있는 변수들에 대해서 적절한 가중치 배분)\n",
    "\n",
    "- 라소 회귀(Lasso)\n",
    ": 제약조건이 L1norm의 형태(마름모) -> 변수 선택 가능, closed form solutuon이 존재하지 않고 numerical optimization을 써서 해 구해야 함\n",
    ": 상관관계가 높다면, 하나는 큰 값, 하나는 0이 나와서 변수선택의 역할을 수행할 수는 있으나 Ridge에 비해 상대적으로 예측 성능은 떨어짐"
   ]
  },
  {
   "cell_type": "markdown",
   "id": "40d45b68",
   "metadata": {},
   "source": [
    "#### 상관계수 플랏"
   ]
  },
  {
   "cell_type": "code",
   "execution_count": 10,
   "id": "c01b78fa",
   "metadata": {
    "ExecuteTime": {
     "end_time": "2023-01-08T15:06:34.089831Z",
     "start_time": "2023-01-08T15:06:33.312299Z"
    }
   },
   "outputs": [],
   "source": [
    "import matplotlib.pyplot as plt\n",
    "import seaborn as sns"
   ]
  },
  {
   "cell_type": "code",
   "execution_count": 11,
   "id": "accd1a01",
   "metadata": {
    "ExecuteTime": {
     "end_time": "2023-01-08T15:06:34.541157Z",
     "start_time": "2023-01-08T15:06:34.091209Z"
    }
   },
   "outputs": [
    {
     "data": {
      "image/png": "[encoded data removed]",
      "text/plain": [
       "<Figure size 360x360 with 2 Axes>"
      ]
     },
     "metadata": {
      "needs_background": "light"
     },
     "output_type": "display_data"
    }
   ],
   "source": [
    "fid, ax = plt.subplots(figsize = (5,5))\n",
    "sns.heatmap(data = cbe_train.corr(), annot=True, fmt = '.2f', linewidths=.5,\n",
    "vmin = -1,vmax = 1)\n",
    "plt.show()"
   ]
  },
  {
   "cell_type": "markdown",
   "id": "34e089b2",
   "metadata": {},
   "source": [
    "Ridge회귀가 잘 작동하지 않는다!\n",
    "- 이유 : Ridge 회귀가 필요한 상황은 다중공선성 문제가 있을 때!\n",
    "-> 상관계수 플랏을 확인해 보았을 때, 변수들간 상관계수가 대부분 낮음을 알 수 있음. dong이랑 dpt는 상관관계가 높게 나타나기는 하는데, 유의한 해석이 나올 것 같지는 않음."
   ]
  },
  {
   "cell_type": "markdown",
   "id": "70eb2678",
   "metadata": {},
   "source": [
    "#### 해석과 무관하게 일단 Ridge Regression Tuning하기!"
   ]
  },
  {
   "cell_type": "code",
   "execution_count": 12,
   "id": "93e400ca",
   "metadata": {
    "ExecuteTime": {
     "end_time": "2023-01-08T15:06:34.665740Z",
     "start_time": "2023-01-08T15:06:34.543118Z"
    }
   },
   "outputs": [],
   "source": [
    "from sklearn.linear_model import Ridge\n",
    "from sklearn.metrics import mean_squared_error\n",
    "from math import sqrt"
   ]
  },
  {
   "cell_type": "code",
   "execution_count": 13,
   "id": "cfe031c6",
   "metadata": {
    "ExecuteTime": {
     "end_time": "2023-01-08T15:06:34.869161Z",
     "start_time": "2023-01-08T15:06:34.667690Z"
    }
   },
   "outputs": [],
   "source": [
    "alphas = [0.00001, 0.0001, 0.001, 0.01, 0.1]\n",
    "mse = [0, 0, 0, 0, 0]\n",
    "\n",
    "for i in range(5):\n",
    "    alpha = alphas[i]\n",
    "    ridge = Ridge(alpha)\n",
    "    ridge.fit(cbe_train, y_train)\n",
    "    pred = ridge.predict(cbe_val)\n",
    "    mse[i] = sqrt(mean_squared_error(pred, y_val))"
   ]
  },
  {
   "cell_type": "code",
   "execution_count": 14,
   "id": "4a4f1000",
   "metadata": {
    "ExecuteTime": {
     "end_time": "2023-01-08T15:06:34.885047Z",
     "start_time": "2023-01-08T15:06:34.870096Z"
    }
   },
   "outputs": [
    {
     "data": {
      "text/plain": [
       "[14777.88141950205,\n",
       " 14777.88141959242,\n",
       " 14777.881420496149,\n",
       " 14777.881429533429,\n",
       " 14777.881519906232]"
      ]
     },
     "execution_count": 14,
     "metadata": {},
     "output_type": "execute_result"
    }
   ],
   "source": [
    "mse"
   ]
  },
  {
   "cell_type": "markdown",
   "id": "9a3a9f31",
   "metadata": {},
   "source": [
    "#### 튜닝결과 시각화"
   ]
  },
  {
   "cell_type": "code",
   "execution_count": 15,
   "id": "90804818",
   "metadata": {
    "ExecuteTime": {
     "end_time": "2023-01-08T15:06:35.149797Z",
     "start_time": "2023-01-08T15:06:35.131789Z"
    }
   },
   "outputs": [
    {
     "data": {
      "text/plain": [
       "0"
      ]
     },
     "execution_count": 15,
     "metadata": {},
     "output_type": "execute_result"
    }
   ],
   "source": [
    "mse.index(min(mse))"
   ]
  },
  {
   "cell_type": "code",
   "execution_count": 16,
   "id": "9e87f846",
   "metadata": {
    "ExecuteTime": {
     "end_time": "2023-01-08T15:06:36.031734Z",
     "start_time": "2023-01-08T15:06:35.932060Z"
    }
   },
   "outputs": [
    {
     "data": {
      "text/plain": [
       "([<matplotlib.axis.XTick at 0x1c055779430>,\n",
       "  <matplotlib.axis.XTick at 0x1c055779400>,\n",
       "  <matplotlib.axis.XTick at 0x1c055772040>,\n",
       "  <matplotlib.axis.XTick at 0x1c04cc58100>,\n",
       "  <matplotlib.axis.XTick at 0x1c04cc58850>],\n",
       " [Text(0, 0, ''),\n",
       "  Text(0, 0, ''),\n",
       "  Text(0, 0, ''),\n",
       "  Text(0, 0, ''),\n",
       "  Text(0, 0, '')])"
      ]
     },
     "execution_count": 16,
     "metadata": {},
     "output_type": "execute_result"
    },
    {
     "data": {
      "image/png": "[encoded data removed]",
      "text/plain": [
       "<Figure size 432x288 with 1 Axes>"
      ]
     },
     "metadata": {
      "needs_background": "light"
     },
     "output_type": "display_data"
    }
   ],
   "source": [
    "plt.scatter(range(0,5), mse, c=['red', 'black', 'black', 'black', 'black'])\n",
    "plt.plot(range(0,5), mse)\n",
    "plt.title(\"result of grid search\")\n",
    "plt.xlabel(\"index of alpha value\")\n",
    "plt.ylabel(\"calculated mse of each alpha value\")\n",
    "plt.xticks(range(0,5))"
   ]
  },
  {
   "cell_type": "markdown",
   "id": "a53b7da9",
   "metadata": {},
   "source": [
    "alpha가 가장 작은 값일 떄 mse가 가장 낮습니다.\n",
    "-> 다중공선성이 존재하는 경우 베타의 분산이 매우 커지는데, 이때 bias-variane trade-off를 이용하여 bias는 조금 늘리는 대신 variance를 줄여주는 방법 중 하나가 ridge regression이다.\n",
    "alpha는 penalty term으로서, 베타를 추정할 때 특정 범위 안에 존재할 수 있도록 조절해주는 역할을 수행하는데, alpha가 0에 가까울수록 LSE를 추정하는 것과 비슷해진다는 것을 의미한다.\n",
    "(x값의 단위가 높으면 제한을 걸어서 그 값을 낮추기 위해 매우 작은 alpha값이 필요하게 되고, alpha 값이 작아짐에 따라 성능의 효율이 감소하게 된다!)\n",
    "\n",
    "-> 위의 plot에서 확인할 수 있었듯이, 해당 데이터는 독립변수 간의 상관관계가 거의 존재하지 않았다. 따라서 이러한 Ridge의 방법이 필요하지 않은 상황이라고 해석할 수 있기에 alpha 값이 가장 작았을 때 mse값이 가장 작게 나온 것 같다고 해석할 수 있다.\n",
    "\n",
    "-> ex) alpha가 극단적으로 0으로 가게 된다면, 이는 일반 선형회귀와 다를게 없음!"
   ]
  },
  {
   "cell_type": "markdown",
   "id": "b6782f06",
   "metadata": {},
   "source": [
    "#### 단순 성형 모형 이용\n",
    ": 굳이 Ridge, Lasso 쓸 필요가 없었기 때문! linear regression은 다른 tuning parameter를 필요로 하지 않음"
   ]
  },
  {
   "cell_type": "code",
   "execution_count": 17,
   "id": "bbef526e",
   "metadata": {
    "ExecuteTime": {
     "end_time": "2023-01-08T15:06:37.735535Z",
     "start_time": "2023-01-08T15:06:37.731577Z"
    }
   },
   "outputs": [],
   "source": [
    "from sklearn.linear_model import LinearRegression"
   ]
  },
  {
   "cell_type": "code",
   "execution_count": 18,
   "id": "b5eb81a0",
   "metadata": {
    "ExecuteTime": {
     "end_time": "2023-01-08T15:06:38.263781Z",
     "start_time": "2023-01-08T15:06:38.140084Z"
    }
   },
   "outputs": [],
   "source": [
    "linear_reg = LinearRegression()\n",
    "linear_reg.fit(cbe_train, y_train)\n",
    "pred = linear_reg.predict(cbe_val)\n",
    "\n",
    "linear_reg_mse = sqrt(mean_squared_error(pred, y_val))"
   ]
  },
  {
   "cell_type": "code",
   "execution_count": 19,
   "id": "52ea3391",
   "metadata": {
    "ExecuteTime": {
     "end_time": "2023-01-08T15:06:39.566058Z",
     "start_time": "2023-01-08T15:06:39.560072Z"
    }
   },
   "outputs": [
    {
     "data": {
      "text/plain": [
       "True"
      ]
     },
     "execution_count": 19,
     "metadata": {},
     "output_type": "execute_result"
    }
   ],
   "source": [
    "linear_reg_mse < min(mse)"
   ]
  },
  {
   "cell_type": "markdown",
   "id": "73acffb7",
   "metadata": {},
   "source": [
    "위를 통해 단순 Linear Regresssion의 결과가 Ridge Regression의 최소 mse보다 작게 추정됨을 확인할 수 있다. 따라서 굳이 bias를 희생하면서까지 Ridge를 쓰는 것 보다, 위 데이터에서는 Linear Regression이 더 적절하다고 판단할 수 있다!"
   ]
  },
  {
   "cell_type": "markdown",
   "id": "3e9b71b6",
   "metadata": {},
   "source": [
    "### Light GBM"
   ]
  },
  {
   "cell_type": "code",
   "execution_count": 20,
   "id": "132a407e",
   "metadata": {
    "ExecuteTime": {
     "end_time": "2023-01-08T15:06:53.794382Z",
     "start_time": "2023-01-08T15:06:50.997118Z"
    }
   },
   "outputs": [
    {
     "name": "stdout",
     "output_type": "stream",
     "text": [
      "Requirement already satisfied: lightgbm in c:\\users\\yjs49\\anaconda3\\lib\\site-packages (3.3.2)\n",
      "Requirement already satisfied: scikit-learn!=0.22.0 in c:\\users\\yjs49\\anaconda3\\lib\\site-packages (from lightgbm) (1.1.1)\n",
      "Requirement already satisfied: numpy in c:\\users\\yjs49\\anaconda3\\lib\\site-packages (from lightgbm) (1.20.3)\n",
      "Requirement already satisfied: wheel in c:\\users\\yjs49\\anaconda3\\lib\\site-packages (from lightgbm) (0.37.0)\n",
      "Requirement already satisfied: scipy in c:\\users\\yjs49\\anaconda3\\lib\\site-packages (from lightgbm) (1.7.1)\n",
      "Requirement already satisfied: threadpoolctl>=2.0.0 in c:\\users\\yjs49\\anaconda3\\lib\\site-packages (from scikit-learn!=0.22.0->lightgbm) (2.2.0)\n",
      "Requirement already satisfied: joblib>=1.0.0 in c:\\users\\yjs49\\anaconda3\\lib\\site-packages (from scikit-learn!=0.22.0->lightgbm) (1.1.0)\n"
     ]
    }
   ],
   "source": [
    "!pip install lightgbm"
   ]
  },
  {
   "cell_type": "markdown",
   "id": "0a2e8a52",
   "metadata": {},
   "source": [
    "#### Light GBM의 이해\n",
    "\n",
    "- 부스팅 모델: 부스팅 알고리즘은 틀린 부분에 가중치를 더하면서 진행하는 알고리즘이고, 그 중 gradient boosting은 그 가중치를 경사하강법으로 진행하는 것이다.\n",
    "- Light GBM은 대용량 데이터 처리가 가능하고, 다른 모델보다 더 적은 자원을 사용하여 빠른 속도를 자랑한다는 장점이 있다. (그러나 너무 적은 데이터를 이용하면 과적합의 위험이 있다.)\n",
    "- Leaf-wise 트리 분할을 사용하여 트리의 균형을 맞추기 보다는 leaf node를 지속적으로 분할하면서 진행하기 떄문에 Level-wise 보다 연산량이 적다는 장점이 있다. (비대칭적인 규칙 트리)\n",
    "- learning rate를 줄이면서 n_estimator를 크게 하는 것이 부스팅 모델에서는 기본적인 튜닝 방법이다.\n",
    "-> 최대 손실값을 가지는 leaf node를 지속적으로 분할해 생성된 규칙트리는 학습을 반복할수록 결국 균형 트리 분할 방식보다 예측 오류 손실을 최소화할 수 있다고 생각한 것!\n",
    "\n",
    "#### 파라미터 설명\n",
    "- num_leaves : 늘리면 정확도는 높아지지만, 트리가 점점 깊어지고 과적합의 가능성이 있음\n",
    "- min_child_sample : 크게 설정하여 트리가 깊어지는 것을 방지할 수 있음\n",
    "- max_depth : 깊이 제한을 통해 과적합을 개선할 수 있음"
   ]
  },
  {
   "cell_type": "markdown",
   "id": "dc3378da",
   "metadata": {},
   "source": [
    "#### Light GBM 튜닝\n",
    ": max_depth, learning_rate, lambda, min_child_samples 등 다양\n",
    "-> 부스팅에서는 일단 learning rate와 iteration의 trade-off를 적절하게 고려하여서 학습속도를 맞춰준 다음, 세부적인 튜닝을 진행한다!\n",
    "보통 enumerate를 통해 파라미터를 묶어주고 튜닝을 진행한다!"
   ]
  },
  {
   "cell_type": "code",
   "execution_count": 44,
   "id": "201e65c5",
   "metadata": {
    "ExecuteTime": {
     "end_time": "2023-01-08T15:57:42.140642Z",
     "start_time": "2023-01-08T15:57:42.130708Z"
    }
   },
   "outputs": [],
   "source": [
    "learning_rate = [0.01, 0.05, 0.1, 0.3, 0.5, 0.7, 0.99]"
   ]
  },
  {
   "cell_type": "code",
   "execution_count": 45,
   "id": "ac4de731",
   "metadata": {
    "ExecuteTime": {
     "end_time": "2023-01-08T15:57:43.588872Z",
     "start_time": "2023-01-08T15:57:43.579903Z"
    }
   },
   "outputs": [],
   "source": [
    "import lightgbm as lgb\n",
    "from lightgbm import LGBMModel,LGBMRegressor"
   ]
  },
  {
   "cell_type": "code",
   "execution_count": 46,
   "id": "66f62e9e",
   "metadata": {
    "ExecuteTime": {
     "end_time": "2023-01-08T15:57:49.063302Z",
     "start_time": "2023-01-08T15:57:45.090905Z"
    }
   },
   "outputs": [],
   "source": [
    "mse = [0, 0, 0, 0, 0, 0, 0]\n",
    "for i in range(7):\n",
    "    lr = learning_rate[i]\n",
    "    lgbm = LGBMRegressor(learning_rate = lr)\n",
    "    lgbm.fit(cbe_train, y_train)\n",
    "    pred = lgbm.predict(cbe_val)\n",
    "    mse[i] = sqrt(mean_squared_error(pred, y_val))"
   ]
  },
  {
   "cell_type": "code",
   "execution_count": 47,
   "id": "a0b65683",
   "metadata": {
    "ExecuteTime": {
     "end_time": "2023-01-08T15:57:51.186819Z",
     "start_time": "2023-01-08T15:57:51.175432Z"
    }
   },
   "outputs": [
    {
     "data": {
      "text/plain": [
       "[20425.56868365825,\n",
       " 12022.076838668658,\n",
       " 11590.66141311688,\n",
       " 11203.645981790534,\n",
       " 11529.176861780024,\n",
       " 13135.209268880475,\n",
       " 12646.056552072083]"
      ]
     },
     "execution_count": 47,
     "metadata": {},
     "output_type": "execute_result"
    }
   ],
   "source": [
    "mse"
   ]
  },
  {
   "cell_type": "code",
   "execution_count": 48,
   "id": "8de6b107",
   "metadata": {
    "ExecuteTime": {
     "end_time": "2023-01-08T15:57:53.439844Z",
     "start_time": "2023-01-08T15:57:53.423250Z"
    }
   },
   "outputs": [
    {
     "data": {
      "text/plain": [
       "3"
      ]
     },
     "execution_count": 48,
     "metadata": {},
     "output_type": "execute_result"
    }
   ],
   "source": [
    "mse.index(min(mse))"
   ]
  },
  {
   "cell_type": "markdown",
   "id": "dc3e0402",
   "metadata": {},
   "source": [
    "####  튜닝 결과 시각화"
   ]
  },
  {
   "cell_type": "code",
   "execution_count": 38,
   "id": "fb9a4cf0",
   "metadata": {
    "ExecuteTime": {
     "end_time": "2023-01-08T15:26:47.425093Z",
     "start_time": "2023-01-08T15:26:47.326813Z"
    }
   },
   "outputs": [
    {
     "data": {
      "text/plain": [
       "Text(2, 12000, 'smallest mse with alpha = 11203 ')"
      ]
     },
     "execution_count": 38,
     "metadata": {},
     "output_type": "execute_result"
    },
    {
     "data": {
      "image/png": "[encoded data removed]",
      "text/plain": [
       "<Figure size 432x288 with 1 Axes>"
      ]
     },
     "metadata": {
      "needs_background": "light"
     },
     "output_type": "display_data"
    }
   ],
   "source": [
    "plt.scatter(range(0,7), mse , c=['blue','blue','blue','red','blue','blue','blue']) #시각화 꼭 해라~\n",
    "plt.plot(range(0,7), mse)\n",
    "plt.title(\"Result of grid search\")\n",
    "plt.xlabel(\"index of learning rate\")\n",
    "plt.xticks(range(0,7))\n",
    "plt.text(2,12000, \"smallest mse with alpha = 11203 \")"
   ]
  },
  {
   "cell_type": "markdown",
   "id": "3cde572d",
   "metadata": {},
   "source": [
    "#### 튜닝 추가 설명\n",
    "- Grid Search\n",
    ": 사전에 지정한 여러개의 잠재적 parameter 후보군들의 조합 중에서 가장 최적의 조합을 찾는 과정이다.즉, 모든 경우의 수의 조합을 이용하여 가장 우수한 성능을 보이는 parameter 조합을 찾는 것으로, 하나하나 해보기 때문에 parameter 수가 늘어날수록 시간이 아주 오래 걸린다는 단점도 있다.\n",
    "\n",
    "- Random Search\n",
    ": 파라미터 값을 랜덤하게 선택한 후, 그 중 우수한 성능을 보인 파라미터를 이용하여 모델을 생성하는 방식이다. 이는 Grid Search에 비해 불필요한 탐색 횟수를 줄여준다는 점에서 특징을 지닌다. 랜덤하게 숫자를 넣은 뒤, 정해진 간격 사이에 위치한 값들에 대해서도 확률적으로 탐색이 가능하므로, 최적의 hyper_paramter를 더 빨리 찾을 수 있음\n",
    "\n",
    "- Bayesian Optimization\n",
    ": 기존의 결과들을 이용하여 parameter를 설정하는 방법이다.\n",
    "-> surrogate model : 지금까지 추론한 결과들을 바탕으로 주로 Gaussian Process를 이용하여 f(x)의 대략적인 값을 추정하는 방식이다.\n",
    "\n",
    "-> acquision model : surrogate model의 확률분포를 이용해서 지금까지 나온 값들보다 더 큰 값이 나올 가능성이 제일 높은 점을 알려주는 함수이다. 가장 큰 점을 찾기 위해 exploration(불확실성이 가장 높은 곳에서 지금까지 나온 값들보다 더 좋은 값이 있을 것이다) 전략과 expectation(지금까지 나온 것들 중에서 높은 값들 근처에서 더 좋은 것이 있을 것이다) 전략을 사용한다. => 이 둘이 적절한 균형을 이루도록 acquisition function을 만들고 이를 expected improvement 함수라고 한다.\n",
    "\n",
    "- 추가적으로 연구 중인 Neural Process 기반 Optimization 방법..."
   ]
  },
  {
   "cell_type": "markdown",
   "id": "677a4cdc",
   "metadata": {},
   "source": [
    "### test set"
   ]
  },
  {
   "cell_type": "markdown",
   "id": "fda349c4",
   "metadata": {},
   "source": [
    "#### test set 불러오기"
   ]
  },
  {
   "cell_type": "code",
   "execution_count": 39,
   "id": "541c42a7",
   "metadata": {
    "ExecuteTime": {
     "end_time": "2023-01-08T15:52:18.164798Z",
     "start_time": "2023-01-08T15:52:18.147855Z"
    }
   },
   "outputs": [],
   "source": [
    "x_test = test.drop(['price'], axis = 1)\n",
    "y_test = test['price']"
   ]
  },
  {
   "cell_type": "markdown",
   "id": "e9f8bf47",
   "metadata": {},
   "source": [
    "#### 캣부스트 인코딩"
   ]
  },
  {
   "cell_type": "code",
   "execution_count": 40,
   "id": "b1e019cf",
   "metadata": {
    "ExecuteTime": {
     "end_time": "2023-01-08T15:54:08.026142Z",
     "start_time": "2023-01-08T15:54:07.428476Z"
    }
   },
   "outputs": [],
   "source": [
    "cbe_encoder = CatBoostEncoder()\n",
    "cbe_encoder.fit(x_train, y_train)\n",
    "train_cbe = cbe_encoder.fit_transform(x_train, y_train)\n",
    "test_cbe  = cbe_encoder.transform(x_test)"
   ]
  },
  {
   "cell_type": "code",
   "execution_count": 41,
   "id": "6eef2fea",
   "metadata": {
    "ExecuteTime": {
     "end_time": "2023-01-08T15:54:15.576975Z",
     "start_time": "2023-01-08T15:54:15.565012Z"
    }
   },
   "outputs": [
    {
     "data": {
      "text/html": [
       "<div>\n",
       "<style scoped>\n",
       "    .dataframe tbody tr th:only-of-type {\n",
       "        vertical-align: middle;\n",
       "    }\n",
       "\n",
       "    .dataframe tbody tr th {\n",
       "        vertical-align: top;\n",
       "    }\n",
       "\n",
       "    .dataframe thead th {\n",
       "        text-align: right;\n",
       "    }\n",
       "</style>\n",
       "<table border=\"1\" class=\"dataframe\">\n",
       "  <thead>\n",
       "    <tr style=\"text-align: right;\">\n",
       "      <th></th>\n",
       "      <th>dong</th>\n",
       "      <th>apt</th>\n",
       "      <th>exclusive_use_area</th>\n",
       "      <th>floor</th>\n",
       "      <th>transaction_year</th>\n",
       "      <th>until_trans</th>\n",
       "      <th>sin_date</th>\n",
       "      <th>cos_date</th>\n",
       "    </tr>\n",
       "  </thead>\n",
       "  <tbody>\n",
       "    <tr>\n",
       "      <th>0</th>\n",
       "      <td>89176.597368</td>\n",
       "      <td>86280.203194</td>\n",
       "      <td>70.80</td>\n",
       "      <td>1</td>\n",
       "      <td>5</td>\n",
       "      <td>10</td>\n",
       "      <td>-1.000000e+00</td>\n",
       "      <td>-1.836970e-16</td>\n",
       "    </tr>\n",
       "    <tr>\n",
       "      <th>1</th>\n",
       "      <td>89176.597368</td>\n",
       "      <td>86280.203194</td>\n",
       "      <td>94.51</td>\n",
       "      <td>8</td>\n",
       "      <td>5</td>\n",
       "      <td>10</td>\n",
       "      <td>-2.449294e-16</td>\n",
       "      <td>1.000000e+00</td>\n",
       "    </tr>\n",
       "    <tr>\n",
       "      <th>2</th>\n",
       "      <td>89176.597368</td>\n",
       "      <td>86280.203194</td>\n",
       "      <td>160.85</td>\n",
       "      <td>11</td>\n",
       "      <td>5</td>\n",
       "      <td>10</td>\n",
       "      <td>-2.449294e-16</td>\n",
       "      <td>1.000000e+00</td>\n",
       "    </tr>\n",
       "    <tr>\n",
       "      <th>3</th>\n",
       "      <td>89176.597368</td>\n",
       "      <td>86280.203194</td>\n",
       "      <td>94.51</td>\n",
       "      <td>6</td>\n",
       "      <td>5</td>\n",
       "      <td>10</td>\n",
       "      <td>1.000000e+00</td>\n",
       "      <td>3.061617e-16</td>\n",
       "    </tr>\n",
       "    <tr>\n",
       "      <th>4</th>\n",
       "      <td>89176.597368</td>\n",
       "      <td>86280.203194</td>\n",
       "      <td>136.40</td>\n",
       "      <td>3</td>\n",
       "      <td>5</td>\n",
       "      <td>10</td>\n",
       "      <td>1.000000e+00</td>\n",
       "      <td>3.061617e-16</td>\n",
       "    </tr>\n",
       "  </tbody>\n",
       "</table>\n",
       "</div>"
      ],
      "text/plain": [
       "           dong           apt  exclusive_use_area  floor  transaction_year  \\\n",
       "0  89176.597368  86280.203194               70.80      1                 5   \n",
       "1  89176.597368  86280.203194               94.51      8                 5   \n",
       "2  89176.597368  86280.203194              160.85     11                 5   \n",
       "3  89176.597368  86280.203194               94.51      6                 5   \n",
       "4  89176.597368  86280.203194              136.40      3                 5   \n",
       "\n",
       "   until_trans      sin_date      cos_date  \n",
       "0           10 -1.000000e+00 -1.836970e-16  \n",
       "1           10 -2.449294e-16  1.000000e+00  \n",
       "2           10 -2.449294e-16  1.000000e+00  \n",
       "3           10  1.000000e+00  3.061617e-16  \n",
       "4           10  1.000000e+00  3.061617e-16  "
      ]
     },
     "execution_count": 41,
     "metadata": {},
     "output_type": "execute_result"
    }
   ],
   "source": [
    "test_cbe.head()"
   ]
  },
  {
   "cell_type": "markdown",
   "id": "5042c62b",
   "metadata": {},
   "source": [
    "#### 최적의 파라미터 적합"
   ]
  },
  {
   "cell_type": "code",
   "execution_count": 52,
   "id": "8cfaf730",
   "metadata": {
    "ExecuteTime": {
     "end_time": "2023-01-08T16:00:36.249107Z",
     "start_time": "2023-01-08T16:00:36.157353Z"
    }
   },
   "outputs": [
    {
     "name": "stdout",
     "output_type": "stream",
     "text": [
      "19866.892948208435\n"
     ]
    }
   ],
   "source": [
    "# Linear Regression\n",
    "lr_reg = LinearRegression()\n",
    "lr_reg.fit(train_cbe, y_train)\n",
    "pred = lr_reg.predict(test_cbe)\n",
    "reg_mse = sqrt(mean_squared_error(pred, y_test))\n",
    "\n",
    "print(reg_mse)"
   ]
  },
  {
   "cell_type": "code",
   "execution_count": 49,
   "id": "e0a4f6ac",
   "metadata": {
    "ExecuteTime": {
     "end_time": "2023-01-08T15:58:29.782477Z",
     "start_time": "2023-01-08T15:58:29.288418Z"
    }
   },
   "outputs": [
    {
     "name": "stdout",
     "output_type": "stream",
     "text": [
      "17705.780985779136\n"
     ]
    }
   ],
   "source": [
    "# Light GBM\n",
    "best_learning_rate = learning_rate[3]\n",
    "lgbm = LGBMRegressor(learning_rate = best_learning_rate)\n",
    "lgbm.fit(train_cbe, y_train)\n",
    "pred = lgbm.predict(test_cbe)\n",
    "lgbm_mse = sqrt(mean_squared_error(pred, y_test))\n",
    "\n",
    "print(lgbm_mse)"
   ]
  },
  {
   "cell_type": "code",
   "execution_count": 53,
   "id": "e1c46d49",
   "metadata": {
    "ExecuteTime": {
     "end_time": "2023-01-08T16:00:59.107835Z",
     "start_time": "2023-01-08T16:00:58.665194Z"
    }
   },
   "outputs": [
    {
     "data": {
      "text/html": [
       "<style>#sk-container-id-1 {color: black;background-color: white;}#sk-container-id-1 pre{padding: 0;}#sk-container-id-1 div.sk-toggleable {background-color: white;}#sk-container-id-1 label.sk-toggleable__label {cursor: pointer;display: block;width: 100%;margin-bottom: 0;padding: 0.3em;box-sizing: border-box;text-align: center;}#sk-container-id-1 label.sk-toggleable__label-arrow:before {content: \"▸\";float: left;margin-right: 0.25em;color: #696969;}#sk-container-id-1 label.sk-toggleable__label-arrow:hover:before {color: black;}#sk-container-id-1 div.sk-estimator:hover label.sk-toggleable__label-arrow:before {color: black;}#sk-container-id-1 div.sk-toggleable__content {max-height: 0;max-width: 0;overflow: hidden;text-align: left;background-color: #f0f8ff;}#sk-container-id-1 div.sk-toggleable__content pre {margin: 0.2em;color: black;border-radius: 0.25em;background-color: #f0f8ff;}#sk-container-id-1 input.sk-toggleable__control:checked~div.sk-toggleable__content {max-height: 200px;max-width: 100%;overflow: auto;}#sk-container-id-1 input.sk-toggleable__control:checked~label.sk-toggleable__label-arrow:before {content: \"▾\";}#sk-container-id-1 div.sk-estimator input.sk-toggleable__control:checked~label.sk-toggleable__label {background-color: #d4ebff;}#sk-container-id-1 div.sk-label input.sk-toggleable__control:checked~label.sk-toggleable__label {background-color: #d4ebff;}#sk-container-id-1 input.sk-hidden--visually {border: 0;clip: rect(1px 1px 1px 1px);clip: rect(1px, 1px, 1px, 1px);height: 1px;margin: -1px;overflow: hidden;padding: 0;position: absolute;width: 1px;}#sk-container-id-1 div.sk-estimator {font-family: monospace;background-color: #f0f8ff;border: 1px dotted black;border-radius: 0.25em;box-sizing: border-box;margin-bottom: 0.5em;}#sk-container-id-1 div.sk-estimator:hover {background-color: #d4ebff;}#sk-container-id-1 div.sk-parallel-item::after {content: \"\";width: 100%;border-bottom: 1px solid gray;flex-grow: 1;}#sk-container-id-1 div.sk-label:hover label.sk-toggleable__label {background-color: #d4ebff;}#sk-container-id-1 div.sk-serial::before {content: \"\";position: absolute;border-left: 1px solid gray;box-sizing: border-box;top: 0;bottom: 0;left: 50%;z-index: 0;}#sk-container-id-1 div.sk-serial {display: flex;flex-direction: column;align-items: center;background-color: white;padding-right: 0.2em;padding-left: 0.2em;position: relative;}#sk-container-id-1 div.sk-item {position: relative;z-index: 1;}#sk-container-id-1 div.sk-parallel {display: flex;align-items: stretch;justify-content: center;background-color: white;position: relative;}#sk-container-id-1 div.sk-item::before, #sk-container-id-1 div.sk-parallel-item::before {content: \"\";position: absolute;border-left: 1px solid gray;box-sizing: border-box;top: 0;bottom: 0;left: 50%;z-index: -1;}#sk-container-id-1 div.sk-parallel-item {display: flex;flex-direction: column;z-index: 1;position: relative;background-color: white;}#sk-container-id-1 div.sk-parallel-item:first-child::after {align-self: flex-end;width: 50%;}#sk-container-id-1 div.sk-parallel-item:last-child::after {align-self: flex-start;width: 50%;}#sk-container-id-1 div.sk-parallel-item:only-child::after {width: 0;}#sk-container-id-1 div.sk-dashed-wrapped {border: 1px dashed gray;margin: 0 0.4em 0.5em 0.4em;box-sizing: border-box;padding-bottom: 0.4em;background-color: white;}#sk-container-id-1 div.sk-label label {font-family: monospace;font-weight: bold;display: inline-block;line-height: 1.2em;}#sk-container-id-1 div.sk-label-container {text-align: center;}#sk-container-id-1 div.sk-container {/* jupyter's `normalize.less` sets `[hidden] { display: none; }` but bootstrap.min.css set `[hidden] { display: none !important; }` so we also need the `!important` here to be able to override the default hidden behavior on the sphinx rendered scikit-learn.org. See: https://github.com/scikit-learn/scikit-learn/issues/21755 */display: inline-block !important;position: relative;}#sk-container-id-1 div.sk-text-repr-fallback {display: none;}</style><div id=\"sk-container-id-1\" class=\"sk-top-container\"><div class=\"sk-text-repr-fallback\"><pre>LGBMRegressor(learning_rate=0.3)</pre><b>In a Jupyter environment, please rerun this cell to show the HTML representation or trust the notebook. <br />On GitHub, the HTML representation is unable to render, please try loading this page with nbviewer.org.</b></div><div class=\"sk-container\" hidden><div class=\"sk-item\"><div class=\"sk-estimator sk-toggleable\"><input class=\"sk-toggleable__control sk-hidden--visually\" id=\"sk-estimator-id-1\" type=\"checkbox\" checked><label for=\"sk-estimator-id-1\" class=\"sk-toggleable__label sk-toggleable__label-arrow\">LGBMRegressor</label><div class=\"sk-toggleable__content\"><pre>LGBMRegressor(learning_rate=0.3)</pre></div></div></div></div></div>"
      ],
      "text/plain": [
       "LGBMRegressor(learning_rate=0.3)"
      ]
     },
     "execution_count": 53,
     "metadata": {},
     "output_type": "execute_result"
    }
   ],
   "source": [
    "lgbm.fit(train_cbe, y_train)"
   ]
  },
  {
   "cell_type": "code",
   "execution_count": null,
   "id": "23f52911",
   "metadata": {},
   "outputs": [],
   "source": [
    "#### test set에 대해 평가"
   ]
  },
  {
   "cell_type": "code",
   "execution_count": 50,
   "id": "273d9115",
   "metadata": {
    "ExecuteTime": {
     "end_time": "2023-01-08T15:59:03.707223Z",
     "start_time": "2023-01-08T15:59:03.689510Z"
    }
   },
   "outputs": [
    {
     "data": {
      "text/plain": [
       "False"
      ]
     },
     "execution_count": 50,
     "metadata": {},
     "output_type": "execute_result"
    }
   ],
   "source": [
    "reg_mse < lgbm_mse"
   ]
  },
  {
   "cell_type": "code",
   "execution_count": 54,
   "id": "5faf33ae",
   "metadata": {
    "ExecuteTime": {
     "end_time": "2023-01-08T16:02:37.634238Z",
     "start_time": "2023-01-08T16:02:37.625129Z"
    }
   },
   "outputs": [
    {
     "name": "stdout",
     "output_type": "stream",
     "text": [
      "Linear Regression : 19866.892948, Light GBM : 17705.780986\n"
     ]
    }
   ],
   "source": [
    "print(\"Linear Regression : %f, Light GBM : %f\" % (reg_mse, lgbm_mse))"
   ]
  },
  {
   "cell_type": "markdown",
   "id": "44b3a652",
   "metadata": {},
   "source": [
    "mse를 기준으로 비교하였을때, Light GBM이 더 우수한 성능을 보인다.\n",
    "다른 파라미터도 조정해준다면 더 우수할 수 있을 것이다!"
   ]
  }
 ],
 "metadata": {
  "kernelspec": {
   "display_name": "Python 3 (ipykernel)",
   "language": "python",
   "name": "python3"
  },
  "language_info": {
   "codemirror_mode": {
    "name": "ipython",
    "version": 3
   },
   "file_extension": ".py",
   "mimetype": "text/x-python",
   "name": "python",
   "nbconvert_exporter": "python",
   "pygments_lexer": "ipython3",
   "version": "3.9.7"
  },
  "toc": {
   "base_numbering": 1,
   "nav_menu": {},
   "number_sections": true,
   "sideBar": true,
   "skip_h1_title": false,
   "title_cell": "Table of Contents",
   "title_sidebar": "Contents",
   "toc_cell": false,
   "toc_position": {},
   "toc_section_display": true,
   "toc_window_display": false
  }
 },
 "nbformat": 4,
 "nbformat_minor": 5
}
